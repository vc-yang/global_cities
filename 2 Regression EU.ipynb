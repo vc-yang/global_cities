{
 "cells": [
  {
   "cell_type": "markdown",
   "metadata": {},
   "source": [
    "# Regression on EU data "
   ]
  },
  {
   "cell_type": "code",
   "execution_count": 1,
   "metadata": {
    "tags": []
   },
   "outputs": [],
   "source": [
    "import numpy as np\n",
    "import matplotlib.pyplot as plt\n",
    "plt.rcParams.update({'font.size': 18})\n",
    "import pandas as pd\n",
    "import statsmodels.api as sm\n",
    "from scipy import stats\n",
    "import copy\n",
    "# import custom functions in myFunctions.ipynb\n",
    "import ipynb.fs.defs.myFunctions as myFun"
   ]
  },
  {
   "cell_type": "code",
   "execution_count": 3,
   "metadata": {
    "tags": []
   },
   "outputs": [],
   "source": [
    "# load data\n",
    "df = pd.read_pickle(\"Data/eu_2016_gnc_oecd\")"
   ]
  },
  {
   "cell_type": "code",
   "execution_count": 5,
   "metadata": {
    "tags": []
   },
   "outputs": [
    {
     "data": {
      "text/html": [
       "<div>\n",
       "<style scoped>\n",
       "    .dataframe tbody tr th:only-of-type {\n",
       "        vertical-align: middle;\n",
       "    }\n",
       "\n",
       "    .dataframe tbody tr th {\n",
       "        vertical-align: top;\n",
       "    }\n",
       "\n",
       "    .dataframe thead th {\n",
       "        text-align: right;\n",
       "    }\n",
       "</style>\n",
       "<table border=\"1\" class=\"dataframe\">\n",
       "  <thead>\n",
       "    <tr style=\"text-align: right;\">\n",
       "      <th></th>\n",
       "      <th>city_gnc</th>\n",
       "      <th>gncAbs</th>\n",
       "      <th>gncRel</th>\n",
       "      <th>iso3</th>\n",
       "      <th>METRO_ID</th>\n",
       "      <th>city_oecd</th>\n",
       "      <th>population</th>\n",
       "      <th>gdp</th>\n",
       "    </tr>\n",
       "  </thead>\n",
       "  <tbody>\n",
       "    <tr>\n",
       "      <th>0</th>\n",
       "      <td>London</td>\n",
       "      <td>113607</td>\n",
       "      <td>100.000000</td>\n",
       "      <td>GBR</td>\n",
       "      <td>UK001</td>\n",
       "      <td>London</td>\n",
       "      <td>12242903.0</td>\n",
       "      <td>826486.0</td>\n",
       "    </tr>\n",
       "    <tr>\n",
       "      <th>5</th>\n",
       "      <td>Paris</td>\n",
       "      <td>79971</td>\n",
       "      <td>70.392669</td>\n",
       "      <td>FRA</td>\n",
       "      <td>FR001</td>\n",
       "      <td>Paris</td>\n",
       "      <td>12821812.0</td>\n",
       "      <td>865380.0</td>\n",
       "    </tr>\n",
       "    <tr>\n",
       "      <th>12</th>\n",
       "      <td>Milan</td>\n",
       "      <td>67790</td>\n",
       "      <td>59.670619</td>\n",
       "      <td>ITA</td>\n",
       "      <td>IT002</td>\n",
       "      <td>Milan</td>\n",
       "      <td>4944254.0</td>\n",
       "      <td>295105.0</td>\n",
       "    </tr>\n",
       "    <tr>\n",
       "      <th>17</th>\n",
       "      <td>Frankfurt</td>\n",
       "      <td>63499</td>\n",
       "      <td>55.893563</td>\n",
       "      <td>DEU</td>\n",
       "      <td>DE005</td>\n",
       "      <td>Frankfurt am Main</td>\n",
       "      <td>2648379.0</td>\n",
       "      <td>182005.0</td>\n",
       "    </tr>\n",
       "    <tr>\n",
       "      <th>19</th>\n",
       "      <td>Madrid</td>\n",
       "      <td>60485</td>\n",
       "      <td>53.240557</td>\n",
       "      <td>ESP</td>\n",
       "      <td>ES001</td>\n",
       "      <td>Madrid</td>\n",
       "      <td>6675302.0</td>\n",
       "      <td>322055.0</td>\n",
       "    </tr>\n",
       "  </tbody>\n",
       "</table>\n",
       "</div>"
      ],
      "text/plain": [
       "     city_gnc  gncAbs      gncRel iso3 METRO_ID          city_oecd  \\\n",
       "0      London  113607  100.000000  GBR    UK001             London   \n",
       "5       Paris   79971   70.392669  FRA    FR001              Paris   \n",
       "12      Milan   67790   59.670619  ITA    IT002              Milan   \n",
       "17  Frankfurt   63499   55.893563  DEU    DE005  Frankfurt am Main   \n",
       "19     Madrid   60485   53.240557  ESP    ES001             Madrid   \n",
       "\n",
       "    population       gdp  \n",
       "0   12242903.0  826486.0  \n",
       "5   12821812.0  865380.0  \n",
       "12   4944254.0  295105.0  \n",
       "17   2648379.0  182005.0  \n",
       "19   6675302.0  322055.0  "
      ]
     },
     "execution_count": 5,
     "metadata": {},
     "output_type": "execute_result"
    }
   ],
   "source": [
    "df.head()"
   ]
  },
  {
   "cell_type": "code",
   "execution_count": null,
   "metadata": {},
   "outputs": [],
   "source": []
  },
  {
   "cell_type": "code",
   "execution_count": 5,
   "metadata": {},
   "outputs": [
    {
     "data": {
      "text/plain": [
       "\"\\nTry compare two regression models. There are only 17 data points. \\nLet's trial run this, and then extend to Europe/US, where there is more data.  \\n\\nEventually we'll do two analysis: \\n(A) OLS model selelection. Between  (where x = log pop, y = log gdp, z = log gnc)\\n    (1) traitional urban scaling model: y = beta x + c\\n    (2) model with connectivity : y = beta x + alpha z +  c\\n(B) Show residual in GDP is correlated with residual in GNC. \\n\""
      ]
     },
     "execution_count": 5,
     "metadata": {},
     "output_type": "execute_result"
    }
   ],
   "source": [
    "\"\"\"\n",
    "Try compare two regression models. There are only 17 data points. \n",
    "Let's trial run this, and then extend to Europe/US, where there is more data.  \n",
    "\n",
    "Eventually we'll do two analysis: \n",
    "(A) OLS model selelection. Between  (where x = log pop, y = log gdp, z = log gnc)\n",
    "    (1) traitional urban scaling model: y = beta x + c\n",
    "    (2) model with connectivity : y = beta x + alpha z +  c\n",
    "(B) Show residual in GDP is correlated with residual in GNC. \n",
    "\"\"\""
   ]
  },
  {
   "cell_type": "markdown",
   "metadata": {},
   "source": [
    "## A. Build OLS models"
   ]
  },
  {
   "cell_type": "markdown",
   "metadata": {},
   "source": [
    "## EU countries"
   ]
  },
  {
   "cell_type": "code",
   "execution_count": 6,
   "metadata": {
    "tags": []
   },
   "outputs": [],
   "source": [
    "EU_iso3 = [\"AUT\", \"BEL\", \"BGR\", \"HRV\", \"CYP\", \"CZE\", \"DNK\", \"EST\", \"FIN\", \"FRA\",\n",
    "           \"DEU\", \"GRC\", \"HUN\", \"IRL\", \"ITA\", \"LVA\", \"LTU\", \"LUX\", \"MLT\", \"NLD\",\n",
    "           \"POL\", \"PRT\", \"ROU\", \"SVK\", \"SVN\", \"ESP\", \"SWE\", \"GBR\"]\n",
    "\n",
    "# as of 2013\n",
    "# according to : https://www.kaweb.co.uk/blog/list-eu-countries-and-iso-3166-1-alpha-3-code/           \n",
    "           "
   ]
  },
  {
   "cell_type": "code",
   "execution_count": 7,
   "metadata": {
    "tags": []
   },
   "outputs": [],
   "source": [
    "eu = myFun.clean_data(df[df.iso3.isin(EU_iso3)], [\"population\", \"gdp\", \"gncAbs\"])"
   ]
  },
  {
   "cell_type": "code",
   "execution_count": 8,
   "metadata": {
    "tags": []
   },
   "outputs": [
    {
     "data": {
      "text/html": [
       "<div>\n",
       "<style scoped>\n",
       "    .dataframe tbody tr th:only-of-type {\n",
       "        vertical-align: middle;\n",
       "    }\n",
       "\n",
       "    .dataframe tbody tr th {\n",
       "        vertical-align: top;\n",
       "    }\n",
       "\n",
       "    .dataframe thead th {\n",
       "        text-align: right;\n",
       "    }\n",
       "</style>\n",
       "<table border=\"1\" class=\"dataframe\">\n",
       "  <thead>\n",
       "    <tr style=\"text-align: right;\">\n",
       "      <th></th>\n",
       "      <th>city_gnc</th>\n",
       "      <th>gncAbs</th>\n",
       "      <th>gncRel</th>\n",
       "      <th>iso3</th>\n",
       "      <th>METRO_ID</th>\n",
       "      <th>city_oecd</th>\n",
       "      <th>population</th>\n",
       "      <th>gdp</th>\n",
       "    </tr>\n",
       "  </thead>\n",
       "  <tbody>\n",
       "    <tr>\n",
       "      <th>0</th>\n",
       "      <td>London</td>\n",
       "      <td>113607</td>\n",
       "      <td>100.000000</td>\n",
       "      <td>GBR</td>\n",
       "      <td>UK001</td>\n",
       "      <td>London</td>\n",
       "      <td>12242903.0</td>\n",
       "      <td>826486.0</td>\n",
       "    </tr>\n",
       "    <tr>\n",
       "      <th>5</th>\n",
       "      <td>Paris</td>\n",
       "      <td>79971</td>\n",
       "      <td>70.392669</td>\n",
       "      <td>FRA</td>\n",
       "      <td>FR001</td>\n",
       "      <td>Paris</td>\n",
       "      <td>12821812.0</td>\n",
       "      <td>865380.0</td>\n",
       "    </tr>\n",
       "    <tr>\n",
       "      <th>12</th>\n",
       "      <td>Milan</td>\n",
       "      <td>67790</td>\n",
       "      <td>59.670619</td>\n",
       "      <td>ITA</td>\n",
       "      <td>IT002</td>\n",
       "      <td>Milan</td>\n",
       "      <td>4944254.0</td>\n",
       "      <td>295105.0</td>\n",
       "    </tr>\n",
       "    <tr>\n",
       "      <th>17</th>\n",
       "      <td>Frankfurt</td>\n",
       "      <td>63499</td>\n",
       "      <td>55.893563</td>\n",
       "      <td>DEU</td>\n",
       "      <td>DE005</td>\n",
       "      <td>Frankfurt am Main</td>\n",
       "      <td>2648379.0</td>\n",
       "      <td>182005.0</td>\n",
       "    </tr>\n",
       "    <tr>\n",
       "      <th>19</th>\n",
       "      <td>Madrid</td>\n",
       "      <td>60485</td>\n",
       "      <td>53.240557</td>\n",
       "      <td>ESP</td>\n",
       "      <td>ES001</td>\n",
       "      <td>Madrid</td>\n",
       "      <td>6675302.0</td>\n",
       "      <td>322055.0</td>\n",
       "    </tr>\n",
       "  </tbody>\n",
       "</table>\n",
       "</div>"
      ],
      "text/plain": [
       "     city_gnc  gncAbs      gncRel iso3 METRO_ID          city_oecd  \\\n",
       "0      London  113607  100.000000  GBR    UK001             London   \n",
       "5       Paris   79971   70.392669  FRA    FR001              Paris   \n",
       "12      Milan   67790   59.670619  ITA    IT002              Milan   \n",
       "17  Frankfurt   63499   55.893563  DEU    DE005  Frankfurt am Main   \n",
       "19     Madrid   60485   53.240557  ESP    ES001             Madrid   \n",
       "\n",
       "    population       gdp  \n",
       "0   12242903.0  826486.0  \n",
       "5   12821812.0  865380.0  \n",
       "12   4944254.0  295105.0  \n",
       "17   2648379.0  182005.0  \n",
       "19   6675302.0  322055.0  "
      ]
     },
     "execution_count": 8,
     "metadata": {},
     "output_type": "execute_result"
    }
   ],
   "source": [
    "eu.head()"
   ]
  },
  {
   "cell_type": "code",
   "execution_count": 9,
   "metadata": {
    "tags": []
   },
   "outputs": [
    {
     "data": {
      "text/plain": [
       "array(['GBR', 'FRA', 'ITA', 'DEU', 'ESP', 'POL', 'NLD', 'BEL', 'IRL',\n",
       "       'AUT', 'SWE', 'LUX', 'PRT', 'CZE', 'DNK', 'GRC', 'FIN', 'HUN',\n",
       "       'SVK', 'EST', 'LVA', 'LTU', 'SVN'], dtype=object)"
      ]
     },
     "execution_count": 9,
     "metadata": {},
     "output_type": "execute_result"
    }
   ],
   "source": [
    "# see what countries are in the data set. \n",
    "eu.iso3.unique()"
   ]
  },
  {
   "cell_type": "code",
   "execution_count": 10,
   "metadata": {
    "tags": []
   },
   "outputs": [
    {
     "data": {
      "text/plain": [
       "94"
      ]
     },
     "execution_count": 10,
     "metadata": {},
     "output_type": "execute_result"
    }
   ],
   "source": [
    "len(eu)"
   ]
  },
  {
   "cell_type": "code",
   "execution_count": 11,
   "metadata": {
    "tags": []
   },
   "outputs": [
    {
     "data": {
      "image/png": "[encoded data removed]",
      "text/plain": [
       "<Figure size 1100x500 with 2 Axes>"
      ]
     },
     "metadata": {},
     "output_type": "display_data"
    }
   ],
   "source": [
    "\n",
    "EUannotate = [\"London\", \n",
    "              \"Venice\",\n",
    "               \"Amsterdam\", \"Bonn\",\n",
    "               'Luxembourg', \n",
    "              ]\n",
    "\n",
    "myFun.plot_descriptives(eu, \"population\", \"gdp\", \"gncAbs\", \"city_gnc\", EUannotate, \"Population\", \"GDP\", \"GNC\", dotmarker = \".\")"
   ]
  },
  {
   "cell_type": "code",
   "execution_count": 13,
   "metadata": {
    "tags": []
   },
   "outputs": [
    {
     "data": {
      "text/plain": [
       "PearsonRResult(statistic=0.6522004192784749, pvalue=1.0726809826597163e-12)"
      ]
     },
     "execution_count": 13,
     "metadata": {},
     "output_type": "execute_result"
    }
   ],
   "source": [
    "# get correlation betwee population and gnc \n",
    "stats.pearsonr(np.log(eu.population), np.log(eu.gncAbs))"
   ]
  },
  {
   "cell_type": "code",
   "execution_count": 14,
   "metadata": {
    "tags": []
   },
   "outputs": [],
   "source": [
    "def store_results(results):\n",
    "    out = {\"params\": results.params, \"aic\": results.aic, \"bic\": results.bic, \"CI95\": results.conf_int(alpha = 0.05), \n",
    "          \"r_sq\": results.rsquared, \"r_sq_adj\": results.rsquared_adj, \"standar_err\": results.bse}\n",
    "    return out \n",
    "\n",
    "def run_null_model(df, xvar, yvar):\n",
    "    Y = np.log(df[yvar])\n",
    "    X = np.log(df[xvar])\n",
    "    X = sm.add_constant(X)\n",
    "    \n",
    "    model = sm.OLS(Y,X)\n",
    "    results = model.fit()\n",
    "    \n",
    "    out = store_results(results)\n",
    "        \n",
    "    return out\n",
    "\n",
    "def run_gnc_model(df, x1var, x2var, yvar):\n",
    "    Y = np.log(df[yvar])\n",
    "    X = np.log(df[[x1var, x2var]])\n",
    "    X = sm.add_constant(X)\n",
    "    \n",
    "    model = sm.OLS(Y,X)\n",
    "    results = model.fit()\n",
    "    \n",
    "    out = store_results(results)\n",
    "\n",
    "    return out"
   ]
  },
  {
   "cell_type": "code",
   "execution_count": 18,
   "metadata": {
    "tags": []
   },
   "outputs": [
    {
     "data": {
      "text/plain": [
       "{'params': const        -4.426508\n",
       " population    1.094873\n",
       " dtype: float64,\n",
       " 'aic': 30.335724017169923,\n",
       " 'bic': 35.42231358170993,\n",
       " 'CI95':                    0         1\n",
       " const      -5.548884 -3.304131\n",
       " population  1.015365  1.174382,\n",
       " 'r_sq': 0.8904743444639085,\n",
       " 'r_sq_adj': 0.8892838482080814,\n",
       " 'standar_err': const         0.565120\n",
       " population    0.040033\n",
       " dtype: float64}"
      ]
     },
     "execution_count": 18,
     "metadata": {},
     "output_type": "execute_result"
    }
   ],
   "source": [
    "# null model: log Y = beta log N + c\n",
    "outEU1 = run_null_model(eu, \"population\", \"gdp\")\n",
    "outEU1"
   ]
  },
  {
   "cell_type": "code",
   "execution_count": 19,
   "metadata": {
    "tags": []
   },
   "outputs": [
    {
     "data": {
      "text/plain": [
       "{'params': const        -4.504780\n",
       " population    0.955366\n",
       " gncAbs        0.205650\n",
       " dtype: float64,\n",
       " 'aic': 13.873773640276966,\n",
       " 'bic': 21.503657987086978,\n",
       " 'CI95':                    0         1\n",
       " const      -5.528499 -3.481061\n",
       " population  0.859755  1.050977\n",
       " gncAbs      0.113728  0.297572,\n",
       " 'r_sq': 0.9100049119577289,\n",
       " 'r_sq_adj': 0.9080269979348219,\n",
       " 'standar_err': const         0.515370\n",
       " population    0.048133\n",
       " gncAbs        0.046276\n",
       " dtype: float64}"
      ]
     },
     "execution_count": 19,
     "metadata": {},
     "output_type": "execute_result"
    }
   ],
   "source": [
    "# GNC model: log Y = beta log N + alpha log GNC + c. \n",
    "outEU2 = run_gnc_model(eu, \"population\", \"gncAbs\", \"gdp\")\n",
    "outEU2"
   ]
  },
  {
   "cell_type": "code",
   "execution_count": null,
   "metadata": {},
   "outputs": [],
   "source": []
  }
 ],
 "metadata": {
  "kernelspec": {
   "display_name": "Python 3 (ipykernel)",
   "language": "python",
   "name": "python3"
  },
  "language_info": {
   "codemirror_mode": {
    "name": "ipython",
    "version": 3
   },
   "file_extension": ".py",
   "mimetype": "text/x-python",
   "name": "python",
   "nbconvert_exporter": "python",
   "pygments_lexer": "ipython3",
   "version": "3.11.2"
  }
 },
 "nbformat": 4,
 "nbformat_minor": 4
}
